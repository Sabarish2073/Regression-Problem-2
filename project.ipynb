{
 "cells": [
  {
   "cell_type": "code",
   "execution_count": 52,
   "metadata": {},
   "outputs": [],
   "source": [
    "import pandas as pd\n",
    "from sklearn.model_selection import train_test_split\n",
    "from sklearn.preprocessing import StandardScaler\n",
    "from sklearn.svm import SVR\n",
    "from sklearn.linear_model import LinearRegression\n",
    "from sklearn.ensemble import RandomForestRegressor, GradientBoostingRegressor\n",
    "from sklearn.metrics import mean_squared_error, mean_absolute_error\n"
   ]
  },
  {
   "cell_type": "code",
   "execution_count": 53,
   "metadata": {},
   "outputs": [],
   "source": [
    "# Step 1: Data Loading\n",
    "train_data = pd.read_csv('C:/Users/ASUS 502/Downloads/p2_test.csv')\n",
    "test_data = pd.read_csv('C:/Users/ASUS 502/Downloads/p2_train.csv')"
   ]
  },
  {
   "cell_type": "code",
   "execution_count": 54,
   "metadata": {},
   "outputs": [
    {
     "data": {
      "text/html": [
       "<div>\n",
       "<style scoped>\n",
       "    .dataframe tbody tr th:only-of-type {\n",
       "        vertical-align: middle;\n",
       "    }\n",
       "\n",
       "    .dataframe tbody tr th {\n",
       "        vertical-align: top;\n",
       "    }\n",
       "\n",
       "    .dataframe thead th {\n",
       "        text-align: right;\n",
       "    }\n",
       "</style>\n",
       "<table border=\"1\" class=\"dataframe\">\n",
       "  <thead>\n",
       "    <tr style=\"text-align: right;\">\n",
       "      <th></th>\n",
       "      <th>-1.453097910426269124e+00</th>\n",
       "      <th>-3.535848257385223903e+00</th>\n",
       "      <th>4.957581238204904039e+00</th>\n",
       "      <th>5.738079256556334258e+03</th>\n",
       "    </tr>\n",
       "  </thead>\n",
       "  <tbody>\n",
       "    <tr>\n",
       "      <th>0</th>\n",
       "      <td>-0.951478</td>\n",
       "      <td>-4.954119</td>\n",
       "      <td>-4.572673</td>\n",
       "      <td>391.728338</td>\n",
       "    </tr>\n",
       "    <tr>\n",
       "      <th>1</th>\n",
       "      <td>3.876805</td>\n",
       "      <td>9.707116</td>\n",
       "      <td>6.012681</td>\n",
       "      <td>72127.820634</td>\n",
       "    </tr>\n",
       "    <tr>\n",
       "      <th>2</th>\n",
       "      <td>4.944532</td>\n",
       "      <td>8.173724</td>\n",
       "      <td>2.526409</td>\n",
       "      <td>35939.928053</td>\n",
       "    </tr>\n",
       "    <tr>\n",
       "      <th>3</th>\n",
       "      <td>8.422242</td>\n",
       "      <td>1.181565</td>\n",
       "      <td>3.208955</td>\n",
       "      <td>365974.814979</td>\n",
       "    </tr>\n",
       "    <tr>\n",
       "      <th>4</th>\n",
       "      <td>3.783887</td>\n",
       "      <td>-0.606017</td>\n",
       "      <td>-7.682480</td>\n",
       "      <td>21394.930705</td>\n",
       "    </tr>\n",
       "  </tbody>\n",
       "</table>\n",
       "</div>"
      ],
      "text/plain": [
       "   -1.453097910426269124e+00  -3.535848257385223903e+00  \\\n",
       "0                  -0.951478                  -4.954119   \n",
       "1                   3.876805                   9.707116   \n",
       "2                   4.944532                   8.173724   \n",
       "3                   8.422242                   1.181565   \n",
       "4                   3.783887                  -0.606017   \n",
       "\n",
       "   4.957581238204904039e+00  5.738079256556334258e+03  \n",
       "0                 -4.572673                391.728338  \n",
       "1                  6.012681              72127.820634  \n",
       "2                  2.526409              35939.928053  \n",
       "3                  3.208955             365974.814979  \n",
       "4                 -7.682480              21394.930705  "
      ]
     },
     "execution_count": 54,
     "metadata": {},
     "output_type": "execute_result"
    }
   ],
   "source": [
    "train_data.head()"
   ]
  },
  {
   "cell_type": "code",
   "execution_count": 55,
   "metadata": {},
   "outputs": [],
   "source": [
    "train_data.columns=[\"Feature1\",\"Feature2\",\"Feature3\",\"Target_value\"]\n"
   ]
  },
  {
   "cell_type": "code",
   "execution_count": 56,
   "metadata": {},
   "outputs": [
    {
     "data": {
      "text/html": [
       "<div>\n",
       "<style scoped>\n",
       "    .dataframe tbody tr th:only-of-type {\n",
       "        vertical-align: middle;\n",
       "    }\n",
       "\n",
       "    .dataframe tbody tr th {\n",
       "        vertical-align: top;\n",
       "    }\n",
       "\n",
       "    .dataframe thead th {\n",
       "        text-align: right;\n",
       "    }\n",
       "</style>\n",
       "<table border=\"1\" class=\"dataframe\">\n",
       "  <thead>\n",
       "    <tr style=\"text-align: right;\">\n",
       "      <th></th>\n",
       "      <th>Feature1</th>\n",
       "      <th>Feature2</th>\n",
       "      <th>Feature3</th>\n",
       "      <th>Target_value</th>\n",
       "    </tr>\n",
       "  </thead>\n",
       "  <tbody>\n",
       "    <tr>\n",
       "      <th>0</th>\n",
       "      <td>-0.951478</td>\n",
       "      <td>-4.954119</td>\n",
       "      <td>-4.572673</td>\n",
       "      <td>391.728338</td>\n",
       "    </tr>\n",
       "    <tr>\n",
       "      <th>1</th>\n",
       "      <td>3.876805</td>\n",
       "      <td>9.707116</td>\n",
       "      <td>6.012681</td>\n",
       "      <td>72127.820634</td>\n",
       "    </tr>\n",
       "    <tr>\n",
       "      <th>2</th>\n",
       "      <td>4.944532</td>\n",
       "      <td>8.173724</td>\n",
       "      <td>2.526409</td>\n",
       "      <td>35939.928053</td>\n",
       "    </tr>\n",
       "    <tr>\n",
       "      <th>3</th>\n",
       "      <td>8.422242</td>\n",
       "      <td>1.181565</td>\n",
       "      <td>3.208955</td>\n",
       "      <td>365974.814979</td>\n",
       "    </tr>\n",
       "    <tr>\n",
       "      <th>4</th>\n",
       "      <td>3.783887</td>\n",
       "      <td>-0.606017</td>\n",
       "      <td>-7.682480</td>\n",
       "      <td>21394.930705</td>\n",
       "    </tr>\n",
       "  </tbody>\n",
       "</table>\n",
       "</div>"
      ],
      "text/plain": [
       "   Feature1  Feature2  Feature3   Target_value\n",
       "0 -0.951478 -4.954119 -4.572673     391.728338\n",
       "1  3.876805  9.707116  6.012681   72127.820634\n",
       "2  4.944532  8.173724  2.526409   35939.928053\n",
       "3  8.422242  1.181565  3.208955  365974.814979\n",
       "4  3.783887 -0.606017 -7.682480   21394.930705"
      ]
     },
     "execution_count": 56,
     "metadata": {},
     "output_type": "execute_result"
    }
   ],
   "source": [
    "train_data.head()"
   ]
  },
  {
   "cell_type": "code",
   "execution_count": 57,
   "metadata": {},
   "outputs": [
    {
     "data": {
      "text/html": [
       "<div>\n",
       "<style scoped>\n",
       "    .dataframe tbody tr th:only-of-type {\n",
       "        vertical-align: middle;\n",
       "    }\n",
       "\n",
       "    .dataframe tbody tr th {\n",
       "        vertical-align: top;\n",
       "    }\n",
       "\n",
       "    .dataframe thead th {\n",
       "        text-align: right;\n",
       "    }\n",
       "</style>\n",
       "<table border=\"1\" class=\"dataframe\">\n",
       "  <thead>\n",
       "    <tr style=\"text-align: right;\">\n",
       "      <th></th>\n",
       "      <th>6.501995617291942864e+00</th>\n",
       "      <th>-8.536982980274247623e+00</th>\n",
       "      <th>3.422934674177284364e+00</th>\n",
       "      <th>1.199802202461145789e+05</th>\n",
       "    </tr>\n",
       "  </thead>\n",
       "  <tbody>\n",
       "    <tr>\n",
       "      <th>0</th>\n",
       "      <td>1.328383</td>\n",
       "      <td>8.943578</td>\n",
       "      <td>-8.145307</td>\n",
       "      <td>29890.224974</td>\n",
       "    </tr>\n",
       "    <tr>\n",
       "      <th>1</th>\n",
       "      <td>0.161478</td>\n",
       "      <td>-7.928351</td>\n",
       "      <td>1.628924</td>\n",
       "      <td>3245.579405</td>\n",
       "    </tr>\n",
       "    <tr>\n",
       "      <th>2</th>\n",
       "      <td>-8.989890</td>\n",
       "      <td>0.621330</td>\n",
       "      <td>-2.322925</td>\n",
       "      <td>411824.663771</td>\n",
       "    </tr>\n",
       "    <tr>\n",
       "      <th>3</th>\n",
       "      <td>5.185118</td>\n",
       "      <td>7.902611</td>\n",
       "      <td>7.559619</td>\n",
       "      <td>176097.137744</td>\n",
       "    </tr>\n",
       "    <tr>\n",
       "      <th>4</th>\n",
       "      <td>6.143466</td>\n",
       "      <td>9.274312</td>\n",
       "      <td>-0.544850</td>\n",
       "      <td>99400.008678</td>\n",
       "    </tr>\n",
       "  </tbody>\n",
       "</table>\n",
       "</div>"
      ],
      "text/plain": [
       "   6.501995617291942864e+00  -8.536982980274247623e+00  \\\n",
       "0                  1.328383                   8.943578   \n",
       "1                  0.161478                  -7.928351   \n",
       "2                 -8.989890                   0.621330   \n",
       "3                  5.185118                   7.902611   \n",
       "4                  6.143466                   9.274312   \n",
       "\n",
       "   3.422934674177284364e+00  1.199802202461145789e+05  \n",
       "0                 -8.145307              29890.224974  \n",
       "1                  1.628924               3245.579405  \n",
       "2                 -2.322925             411824.663771  \n",
       "3                  7.559619             176097.137744  \n",
       "4                 -0.544850              99400.008678  "
      ]
     },
     "execution_count": 57,
     "metadata": {},
     "output_type": "execute_result"
    }
   ],
   "source": [
    "test_data.head()"
   ]
  },
  {
   "cell_type": "code",
   "execution_count": 58,
   "metadata": {},
   "outputs": [],
   "source": [
    "test_data.columns=[\"Feature1\",\"Feature2\",\"Feature3\",\"Target_value\"]\n"
   ]
  },
  {
   "cell_type": "code",
   "execution_count": 59,
   "metadata": {},
   "outputs": [
    {
     "data": {
      "text/html": [
       "<div>\n",
       "<style scoped>\n",
       "    .dataframe tbody tr th:only-of-type {\n",
       "        vertical-align: middle;\n",
       "    }\n",
       "\n",
       "    .dataframe tbody tr th {\n",
       "        vertical-align: top;\n",
       "    }\n",
       "\n",
       "    .dataframe thead th {\n",
       "        text-align: right;\n",
       "    }\n",
       "</style>\n",
       "<table border=\"1\" class=\"dataframe\">\n",
       "  <thead>\n",
       "    <tr style=\"text-align: right;\">\n",
       "      <th></th>\n",
       "      <th>Feature1</th>\n",
       "      <th>Feature2</th>\n",
       "      <th>Feature3</th>\n",
       "      <th>Target_value</th>\n",
       "    </tr>\n",
       "  </thead>\n",
       "  <tbody>\n",
       "    <tr>\n",
       "      <th>0</th>\n",
       "      <td>1.328383</td>\n",
       "      <td>8.943578</td>\n",
       "      <td>-8.145307</td>\n",
       "      <td>29890.224974</td>\n",
       "    </tr>\n",
       "    <tr>\n",
       "      <th>1</th>\n",
       "      <td>0.161478</td>\n",
       "      <td>-7.928351</td>\n",
       "      <td>1.628924</td>\n",
       "      <td>3245.579405</td>\n",
       "    </tr>\n",
       "    <tr>\n",
       "      <th>2</th>\n",
       "      <td>-8.989890</td>\n",
       "      <td>0.621330</td>\n",
       "      <td>-2.322925</td>\n",
       "      <td>411824.663771</td>\n",
       "    </tr>\n",
       "    <tr>\n",
       "      <th>3</th>\n",
       "      <td>5.185118</td>\n",
       "      <td>7.902611</td>\n",
       "      <td>7.559619</td>\n",
       "      <td>176097.137744</td>\n",
       "    </tr>\n",
       "    <tr>\n",
       "      <th>4</th>\n",
       "      <td>6.143466</td>\n",
       "      <td>9.274312</td>\n",
       "      <td>-0.544850</td>\n",
       "      <td>99400.008678</td>\n",
       "    </tr>\n",
       "  </tbody>\n",
       "</table>\n",
       "</div>"
      ],
      "text/plain": [
       "   Feature1  Feature2  Feature3   Target_value\n",
       "0  1.328383  8.943578 -8.145307   29890.224974\n",
       "1  0.161478 -7.928351  1.628924    3245.579405\n",
       "2 -8.989890  0.621330 -2.322925  411824.663771\n",
       "3  5.185118  7.902611  7.559619  176097.137744\n",
       "4  6.143466  9.274312 -0.544850   99400.008678"
      ]
     },
     "execution_count": 59,
     "metadata": {},
     "output_type": "execute_result"
    }
   ],
   "source": [
    "test_data.head()"
   ]
  },
  {
   "cell_type": "code",
   "execution_count": 60,
   "metadata": {},
   "outputs": [],
   "source": [
    "X_train = train_data.iloc[:, :-1]\n",
    "y_train = train_data.iloc[:, -1]"
   ]
  },
  {
   "cell_type": "code",
   "execution_count": 61,
   "metadata": {},
   "outputs": [],
   "source": [
    "X_test = test_data.iloc[:, :-1]\n",
    "y_test = test_data.iloc[:, -1]"
   ]
  },
  {
   "cell_type": "code",
   "execution_count": 62,
   "metadata": {},
   "outputs": [],
   "source": [
    "# Standardize the features\n",
    "scaler = StandardScaler()\n",
    "X_train_scaled = scaler.fit_transform(X_train)\n",
    "X_test_scaled = scaler.transform(X_test)"
   ]
  },
  {
   "cell_type": "code",
   "execution_count": 63,
   "metadata": {},
   "outputs": [],
   "source": [
    "# Support Vector Regression\n",
    "svr_model = SVR(kernel='rbf')  # Radial Basis Function kernel\n",
    "svr_model.fit(X_train_scaled, y_train)\n",
    "svr_y_pred = svr_model.predict(X_test_scaled)"
   ]
  },
  {
   "cell_type": "code",
   "execution_count": 64,
   "metadata": {},
   "outputs": [],
   "source": [
    "# Linear Regression\n",
    "linear_model = LinearRegression()\n",
    "linear_model.fit(X_train_scaled, y_train)\n",
    "linear_y_pred = linear_model.predict(X_test_scaled)"
   ]
  },
  {
   "cell_type": "code",
   "execution_count": 65,
   "metadata": {},
   "outputs": [],
   "source": [
    "# RandomForestRegressor\n",
    "rf = RandomForestRegressor()\n",
    "rf.fit(X_train_scaled, y_train)\n",
    "rf_y_pred = rf.predict(X_test_scaled)"
   ]
  },
  {
   "cell_type": "code",
   "execution_count": 66,
   "metadata": {},
   "outputs": [],
   "source": [
    "# GradientBoostingRegressor\n",
    "gbr = GradientBoostingRegressor()\n",
    "gbr.fit(X_train_scaled, y_train)\n",
    "gbr_y_pred = gbr.predict(X_test_scaled)"
   ]
  },
  {
   "cell_type": "code",
   "execution_count": 67,
   "metadata": {},
   "outputs": [],
   "source": [
    "# Evaluation Metrics\n",
    "svr_mse = mean_squared_error(y_test, svr_y_pred)\n",
    "svr_mae = mean_absolute_error(y_test, svr_y_pred)\n",
    "\n",
    "linear_mse = mean_squared_error(y_test, linear_y_pred)\n",
    "linear_mae = mean_absolute_error(y_test, linear_y_pred)\n",
    "\n",
    "rf_mse = mean_squared_error(y_test, rf_y_pred)\n",
    "rf_mae = mean_absolute_error(y_test, rf_y_pred)\n",
    "\n",
    "gbr_mse = mean_squared_error(y_test, gbr_y_pred)\n",
    "gbr_mae = mean_absolute_error(y_test, gbr_y_pred)"
   ]
  },
  {
   "cell_type": "code",
   "execution_count": null,
   "metadata": {},
   "outputs": [],
   "source": []
  },
  {
   "cell_type": "code",
   "execution_count": 68,
   "metadata": {},
   "outputs": [
    {
     "name": "stdout",
     "output_type": "stream",
     "text": [
      "Support Vector Regression:\n",
      "Mean Squared Error: 76045587663.7445\n",
      "Mean Absolute Error: 148181.28762585204\n",
      "\n",
      "Linear Regression:\n",
      "Mean Squared Error: 61372702967.381004\n",
      "Mean Absolute Error: 174749.6033713402\n",
      "\n",
      "Random Forest Regression:\n",
      "Mean Squared Error: 448525959.1343941\n",
      "Mean Absolute Error: 10423.58908990574\n",
      "\n",
      "Gradient Boosting Regression:\n",
      "Mean Squared Error: 861282721.9202647\n",
      "Mean Absolute Error: 18249.934778349365\n"
     ]
    }
   ],
   "source": [
    "# Reporting Metrics\n",
    "print(\"Support Vector Regression:\")\n",
    "print(\"Mean Squared Error:\", svr_mse)\n",
    "print(\"Mean Absolute Error:\", svr_mae)\n",
    "print()\n",
    "\n",
    "print(\"Linear Regression:\")\n",
    "print(\"Mean Squared Error:\", linear_mse)\n",
    "print(\"Mean Absolute Error:\", linear_mae)\n",
    "print()\n",
    "\n",
    "print(\"Random Forest Regression:\")\n",
    "print(\"Mean Squared Error:\", rf_mse)\n",
    "print(\"Mean Absolute Error:\", rf_mae)\n",
    "print()\n",
    "\n",
    "print(\"Gradient Boosting Regression:\")\n",
    "print(\"Mean Squared Error:\", gbr_mse)\n",
    "print(\"Mean Absolute Error:\", gbr_mae)"
   ]
  }
 ],
 "metadata": {
  "kernelspec": {
   "display_name": ".venv",
   "language": "python",
   "name": "python3"
  },
  "language_info": {
   "codemirror_mode": {
    "name": "ipython",
    "version": 3
   },
   "file_extension": ".py",
   "mimetype": "text/x-python",
   "name": "python",
   "nbconvert_exporter": "python",
   "pygments_lexer": "ipython3",
   "version": "3.12.1"
  }
 },
 "nbformat": 4,
 "nbformat_minor": 2
}
